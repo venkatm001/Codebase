{
 "cells": [
  {
   "cell_type": "code",
   "execution_count": 80,
   "metadata": {},
   "outputs": [
    {
     "ename": "ModuleNotFoundError",
     "evalue": "No module named 'snowflake'",
     "output_type": "error",
     "traceback": [
      "\u001b[1;31m---------------------------------------------------------------------------\u001b[0m",
      "\u001b[1;31mModuleNotFoundError\u001b[0m                       Traceback (most recent call last)",
      "Cell \u001b[1;32mIn[80], line 7\u001b[0m\n\u001b[0;32m      5\u001b[0m \u001b[38;5;28;01mfrom\u001b[39;00m \u001b[38;5;21;01memail\u001b[39;00m\u001b[38;5;21;01m.\u001b[39;00m\u001b[38;5;21;01mmime\u001b[39;00m\u001b[38;5;21;01m.\u001b[39;00m\u001b[38;5;21;01mapplication\u001b[39;00m \u001b[38;5;28;01mimport\u001b[39;00m MIMEApplication\n\u001b[0;32m      6\u001b[0m \u001b[38;5;28;01mfrom\u001b[39;00m \u001b[38;5;21;01memail\u001b[39;00m\u001b[38;5;21;01m.\u001b[39;00m\u001b[38;5;21;01mmime\u001b[39;00m\u001b[38;5;21;01m.\u001b[39;00m\u001b[38;5;21;01mmultipart\u001b[39;00m \u001b[38;5;28;01mimport\u001b[39;00m MIMEMultipart\n\u001b[1;32m----> 7\u001b[0m \u001b[38;5;28;01mimport\u001b[39;00m \u001b[38;5;21;01msnowflake\u001b[39;00m\u001b[38;5;21;01m.\u001b[39;00m\u001b[38;5;21;01mconnector\u001b[39;00m\n",
      "\u001b[1;31mModuleNotFoundError\u001b[0m: No module named 'snowflake'"
     ]
    }
   ],
   "source": [
    "import pandas as pd\n",
    "import datetime as dt\n",
    "import smtplib\n",
    "from email.mime.text import MIMEText\n",
    "from email.mime.application import MIMEApplication\n",
    "from email.mime.multipart import MIMEMultipart\n",
    "import snowflake.connector\n"
   ]
  },
  {
   "cell_type": "code",
   "execution_count": 78,
   "metadata": {},
   "outputs": [
    {
     "name": "stdout",
     "output_type": "stream",
     "text": [
      "Successfully sent email\n"
     ]
    }
   ],
   "source": [
    "def sendEmail():\n",
    "    sender = 'venkateshwarlu.marakala@nationalgrid.com'\n",
    "    receivers = ['venkateshwarlu.marakala@nationalgrid.com']\n",
    "    msg = MIMEMultipart()\n",
    "    msg['Subject'] = \"ETL Notification\"\n",
    "    msg['From'] = sender\n",
    "   # msg['content']=\"\"\"MIME -  Version:1.0\n",
    "   # content-type:text/HTML\"\"\"\n",
    "    message = \"\"\"\\\n",
    "    <html>\n",
    "        <head></head>\n",
    "        <body>\n",
    "           Hi, here is a list of tasks completed: \\n**{0}** \n",
    "           \\n\\nYou're welcome\\nVenkat M\n",
    "        </body>\n",
    "    </html>       \n",
    "    \"\"\".format(df.to_html(index=False))\n",
    "    part1 = MIMEText(message, 'html')\n",
    "    msg.attach(part1)\n",
    "    #try:\n",
    "    smtpObj = smtplib.SMTP('smtpapp.nationalgrid.com', 25)\n",
    "    smtpObj.sendmail(sender , receivers, msg.as_string())         \n",
    "    print(\"Successfully sent email\")\n",
    "    #except Exception as sme:\n",
    "    #     print (\"Error: unable to send email {}\".format(sme))\n",
    "\n",
    "\n",
    "data = {\n",
    "    \"one\": [\"Abhi18292\", \"Shek\"],\n",
    "    \"two\": [\"Arjun\", \"Echo3i3 o3o3 o333\"],\n",
    "    \"three\": [\"Virat\", \"Gandalf o3o3o3\"],\n",
    "    \"four\": [\"Emma seed\", \"Amma\"]\n",
    "}\n",
    "\n",
    "df = pd.DataFrame(data)\n",
    "fun_color = lambda x: f\"background-color: {'darkred' if x=='Amma' else 'green'}\"\n",
    "df=df.style.applymap(fun_color, subset=['four']).hide()\n",
    "headers = {'selector': 'th', 'props': 'font-size: 14px; text-align:center; font-family: sans-serif;border-collapse:collapse;  border: 0.5px solid' }\n",
    "cells = {'selector': 'td',   'props': 'font-size: 12px; text-align:center; font-family: sans-serif;border-collapse:collapse; border: 0.5px solid;min-width: 120px;' }\n",
    "df=df.set_table_styles([headers,cells], overwrite=False)\n",
    "df\n",
    "sendEmail()"
   ]
  },
  {
   "cell_type": "code",
   "execution_count": null,
   "metadata": {},
   "outputs": [],
   "source": [
    "con = snowflake.connector.connect(\n",
    "    user=\"VENKATESHWARLU.MARAKALA@US.NATIONALGRID.COM\", #You can get it by executing in UI: desc user <username>;\n",
    "    account=\"app-ngg-ngprod.privatelink\", #Add all of the account-name between https:// and snowflakecomputing.com\n",
    "    authenticator=\"externalbrowser\",\n",
    ")\n",
    "cur = con.cursor()\n",
    "try:\n",
    "    cur.execute(\"select current_date\")\n",
    "    one_row=cur.fetchone()\n",
    "    print(\"Current_Date:\",one_row[0])\n",
    "    cur.execute(\"SELECT current_version()\")\n",
    "    one_row = cur.fetchone()\n",
    "    print(\"Snowfalke_Version:\",one_row[0])\n",
    "finally:\n",
    "    cur.close()\n",
    "cur.close()"
   ]
  }
 ],
 "metadata": {
  "kernelspec": {
   "display_name": "Python 3",
   "language": "python",
   "name": "python3"
  },
  "language_info": {
   "codemirror_mode": {
    "name": "ipython",
    "version": 3
   },
   "file_extension": ".py",
   "mimetype": "text/x-python",
   "name": "python",
   "nbconvert_exporter": "python",
   "pygments_lexer": "ipython3",
   "version": "3.8.1"
  }
 },
 "nbformat": 4,
 "nbformat_minor": 2
}
