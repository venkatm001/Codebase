{
 "cells": [
  {
   "cell_type": "code",
   "execution_count": 26,
   "metadata": {},
   "outputs": [],
   "source": [
    "import pandas as pd\n",
    "import datetime as dt\n",
    "import smtplib\n",
    "from email.mime.text import MIMEText\n",
    "from email.mime.application import MIMEApplication\n",
    "from email.mime.multipart import MIMEMultipart\n",
    "import snowflake.connector\n",
    "import openpyxl\n"
   ]
  },
  {
   "cell_type": "code",
   "execution_count": 34,
   "metadata": {},
   "outputs": [
    {
     "name": "stdout",
     "output_type": "stream",
     "text": [
      "Successfully sent email\n"
     ]
    }
   ],
   "source": [
    "def sendEmail(message_body):\n",
    "    sender = 'venkateshwarlu.marakala@nationalgrid.com'\n",
    "    receivers = ['venkateshwarlu.marakala@us.nationalgrid.com']\n",
    "    msg = MIMEMultipart()\n",
    "    msg['Subject'] = \"ETL Notification\"\n",
    "    msg['From'] = sender\n",
    "   # msg['content']=\"\"\"MIME -  Version:1.0\n",
    "   # content-type:text/HTML\"\"\"\n",
    "    message = \"\"\"\\\n",
    "    <html>\n",
    "        <head>\n",
    "        </head>\n",
    "        <body>\n",
    "            <header>\n",
    "                <img src=\"https://nationalgridplc.sharepoint.com/:i:/r/sites/GRP-MST-INT-NG-FDRODATAENGINEERING-ELTNotifications/Shared%20Documents/Gird_News.png\" alt=\"img\" class=\"logo\">\n",
    "                <h1>Page Title</h1>\n",
    "            </header>\n",
    "           Hi, here is a list of tasks completed: \\n**{0}** \n",
    "           \\n\\nYou're welcome\\nVenkat M\n",
    "        </body>\n",
    "    </html>       \n",
    "    \"\"\".format(message_body) ##.to_html(index=False))\n",
    "    part1 = MIMEText(message, 'html')\n",
    "    msg.attach(part1)\n",
    "    #try:\n",
    "    smtpObj = smtplib.SMTP('smtpapp.nationalgrid.com', 25)\n",
    "    smtpObj.sendmail(sender , receivers, msg.as_string())         \n",
    "    print(\"Successfully sent email\")\n",
    "    #except Exception as sme:\n",
    "    #     print (\"Error: unable to send email {}\".format(sme))\n",
    "\n",
    "\n",
    "data = {\n",
    "    \"one\": [\"Abhi18292\", \"Shek\"],\n",
    "    \"two\": [\"Arjun\", \"Echo3i3 o3o3 o333\"],\n",
    "    \"three\": [\"Virat\", \"Gandalf o3o3o3\"],\n",
    "    \"four\": [\"Emma seed\", \"Amma\"]\n",
    "}\n",
    "\n",
    "df = pd.DataFrame(data)\n",
    "fun_color = lambda x: f\"background-color: {'darkred' if x=='Amma' else 'green'}\"\n",
    "df=df.style.map(fun_color, subset=['four']).hide()\n",
    "headers = {'selector': 'th', 'props': 'font-size: 14px; text-align:center; font-family: sans-serif;border-collapse:collapse;  border: 0.5px solid' }\n",
    "cells = {'selector': 'td',   'props': 'font-size: 12px; text-align:center; font-family: sans-serif;border-collapse:collapse; border: 0.5px solid;min-width: 120px;' }\n",
    "df=df.set_table_styles([headers,cells], overwrite=False)\n",
    "msg_body = df.to_html(index=False)\n",
    "#xl_body = df.to_excel('Table_detals.xlsx')\n",
    "sendEmail(msg_body)\n",
    "#df.to_html()"
   ]
  },
  {
   "cell_type": "code",
   "execution_count": null,
   "metadata": {},
   "outputs": [],
   "source": [
    "con = snowflake.connector.connect(\n",
    "    user=\"VENKATESHWARLU.MARAKALA@US.NATIONALGRID.COM\", #You can get it by executing in UI: desc user <username>;\n",
    "    account=\"app-ngg-ngprod.privatelink\", #Add all of the account-name between https:// and snowflakecomputing.com\n",
    "    authenticator=\"externalbrowser\"\n",
    ")\n",
    "cur = con.cursor()\n",
    "cur.execute(\"select current_date\")\n",
    "one_row=cur.fetchone()\n",
    "print(\"Current_Date:\",one_row[0])\n",
    "cur.execute(\"SELECT current_version()\")\n",
    "one_row = cur.fetchone()\n",
    "print(\"Snowfalke_Version:\",one_row[0])\n",
    "cur.close()\n"
   ]
  },
  {
   "cell_type": "code",
   "execution_count": 15,
   "metadata": {},
   "outputs": [
    {
     "name": "stdout",
     "output_type": "stream",
     "text": [
      "1\n",
      "4\n",
      "3\n"
     ]
    }
   ],
   "source": [
    "ar = [[1,2,3],[4,5,6]]\n",
    "for p in ar:\n",
    "    print (p[0])\n",
    "print( ar[0][2])"
   ]
  }
 ],
 "metadata": {
  "kernelspec": {
   "display_name": "Python 3",
   "language": "python",
   "name": "python3"
  },
  "language_info": {
   "codemirror_mode": {
    "name": "ipython",
    "version": 3
   },
   "file_extension": ".py",
   "mimetype": "text/x-python",
   "name": "python",
   "nbconvert_exporter": "python",
   "pygments_lexer": "ipython3",
   "version": "3.11.1"
  }
 },
 "nbformat": 4,
 "nbformat_minor": 2
}
